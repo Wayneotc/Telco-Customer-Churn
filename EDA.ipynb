{
 "cells": [
  {
   "cell_type": "code",
   "execution_count": 63,
   "id": "80b0acd2",
   "metadata": {},
   "outputs": [
    {
     "data": {
      "text/plain": [
       "No     5174\n",
       "Yes    1869\n",
       "Name: Churn, dtype: int64"
      ]
     },
     "execution_count": 63,
     "metadata": {},
     "output_type": "execute_result"
    }
   ],
   "source": [
    "telco_data['Churn'].value_counts()"
   ]
  },
  {
   "cell_type": "code",
   "execution_count": 64,
   "id": "80250b1a",
   "metadata": {
    "scrolled": true
   },
   "outputs": [
    {
     "data": {
      "image/png": "[encoded data removed]",
      "text/plain": [
       "<Figure size 640x480 with 1 Axes>"
      ]
     },
     "metadata": {},
     "output_type": "display_data"
    }
   ],
   "source": [
    "import matplotlib.pyplot as plt\n",
    "import seaborn as sns\n",
    "\n",
    "sns.countplot(x='Churn', data=telco_data)\n",
    "plt.title('Churn Distribution')\n",
    "plt.xlabel('Churn')\n",
    "plt.ylabel('Count')\n",
    "plt.show()"
   ]
  },
  {
   "cell_type": "markdown",
   "id": "7bd0f176",
   "metadata": {},
   "source": [
    "The bar plot shows a significant class imbalance between churned customers (\"Yes\") and non-churned customers (\"No\"). This indicates that the dataset contains a higher number of non-churned customers compared to churned customers."
   ]
  },
  {
   "cell_type": "markdown",
   "id": "5e64b27e",
   "metadata": {},
   "source": [
    "converting target variable to numerics"
   ]
  },
  {
   "cell_type": "code",
   "execution_count": null,
   "id": "812fce95",
   "metadata": {},
   "outputs": [],
   "source": [
    "telco_data['SeniorCitizen']=telco_data['SeniorCitizen'].astype('object')\n",
    "\n",
    "numerical_cols = telco_data.select_dtypes(include=['number']).columns.tolist()\n",
    "categorical_cols = telco_data.select_dtypes(exclude=['number']).columns.tolist()\n",
    "\n",
    "# Step 2: Separate columns\n",
    "numerical_data = telco_data[numerical_cols]\n",
    "categorical_data = telco_data[categorical_cols]"
   ]
  },
  {
   "cell_type": "markdown",
   "id": "dbcda07f",
   "metadata": {},
   "source": [
    "Through the mapping of categorical labels to numerical values, we can now effectively represent the churn status as binary values which we shall use to train our model."
   ]
  },
  {
   "cell_type": "code",
   "execution_count": 66,
   "id": "991b20be",
   "metadata": {
    "scrolled": true
   },
   "outputs": [
    {
     "data": {
      "text/plain": [
       "['gender',\n",
       " 'SeniorCitizen',\n",
       " 'Partner',\n",
       " 'Dependents',\n",
       " 'PhoneService',\n",
       " 'MultipleLines',\n",
       " 'InternetService',\n",
       " 'OnlineSecurity',\n",
       " 'OnlineBackup',\n",
       " 'DeviceProtection',\n",
       " 'TechSupport',\n",
       " 'StreamingTV',\n",
       " 'StreamingMovies',\n",
       " 'Contract',\n",
       " 'PaperlessBilling',\n",
       " 'PaymentMethod',\n",
       " 'Churn']"
      ]
     },
     "execution_count": 66,
     "metadata": {},
     "output_type": "execute_result"
    }
   ],
   "source": [
    "categorical_cols"
   ]
  },
  {
   "cell_type": "code",
   "execution_count": 67,
   "id": "f99b5b26",
   "metadata": {},
   "outputs": [
    {
     "data": {
      "text/plain": [
       "['tenure', 'MonthlyCharges', 'TotalCharges']"
      ]
     },
     "execution_count": 67,
     "metadata": {},
     "output_type": "execute_result"
    }
   ],
   "source": [
    "numerical_cols"
   ]
  }
 ],
 "metadata": {
  "kernelspec": {
   "display_name": "Python 3 (ipykernel)",
   "language": "python",
   "name": "python3"
  },
  "language_info": {
   "codemirror_mode": {
    "name": "ipython",
    "version": 3
   },
   "file_extension": ".py",
   "mimetype": "text/x-python",
   "name": "python",
   "nbconvert_exporter": "python",
   "pygments_lexer": "ipython3",
   "version": "3.10.9"
  }
 },
 "nbformat": 4,
 "nbformat_minor": 5
}
